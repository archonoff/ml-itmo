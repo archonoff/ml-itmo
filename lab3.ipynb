{
 "cells": [
  {
   "cell_type": "code",
   "execution_count": 3,
   "metadata": {},
   "outputs": [
    {
     "name": "stdout",
     "output_type": "stream",
     "text": [
      "Using matplotlib backend: MacOSX\n",
      "Populating the interactive namespace from numpy and matplotlib\n"
     ]
    }
   ],
   "source": [
    "%pylab"
   ]
  },
  {
   "cell_type": "code",
   "execution_count": 248,
   "metadata": {
    "collapsed": true
   },
   "outputs": [],
   "source": [
    "import json\n",
    "\n",
    "from scipy.cluster import hierarchy\n",
    "from scipy.spatial.distance import pdist\n",
    "from math import pow\n",
    "\n",
    "from sklearn.feature_extraction.text import TfidfVectorizer\n",
    "from sklearn.model_selection import cross_val_score, GridSearchCV\n",
    "from sklearn.pipeline import Pipeline\n",
    "from sklearn.metrics import silhouette_score\n",
    "from sklearn.cluster import KMeans, AgglomerativeClustering\n",
    "from sklearn.base import BaseEstimator, TransformerMixin\n",
    "\n",
    "import nltk\n",
    "from nltk.corpus import stopwords\n",
    "from nltk.stem.snowball import SnowballStemmer\n",
    "from nltk.tokenize import RegexpTokenizer"
   ]
  },
  {
   "cell_type": "code",
   "execution_count": 5,
   "metadata": {
    "collapsed": true
   },
   "outputs": [],
   "source": [
    "%matplotlib inline"
   ]
  },
  {
   "cell_type": "markdown",
   "metadata": {},
   "source": [
    "# Загрузка данных"
   ]
  },
  {
   "cell_type": "code",
   "execution_count": 6,
   "metadata": {},
   "outputs": [],
   "source": [
    "with open('posts_1.json', 'r', encoding='utf-8') as f:\n",
    "    file_content = f.readlines()"
   ]
  },
  {
   "cell_type": "code",
   "execution_count": 7,
   "metadata": {},
   "outputs": [],
   "source": [
    "raw_data = json.loads('[{}]'.format(','.join(file_content)))"
   ]
  },
  {
   "cell_type": "code",
   "execution_count": 8,
   "metadata": {},
   "outputs": [
    {
     "data": {
      "text/plain": [
       "{'_id': '-29425083_5664',\n",
       " 'attachments': [{'photo': {'access_key': '234cdcf64007f37550',\n",
       "    'album_id': -7,\n",
       "    'date': 1462457034,\n",
       "    'height': 843,\n",
       "    'id': 411952969,\n",
       "    'owner_id': -29425083,\n",
       "    'photo_1280': 'https://pp.userapi.com/c631524/v631524059/338eb/NW3ZUU-Ki9s.jpg',\n",
       "    'photo_130': 'https://pp.userapi.com/c631524/v631524059/338e8/9dRq7GCXAqE.jpg',\n",
       "    'photo_604': 'https://pp.userapi.com/c631524/v631524059/338e9/3or7pJ0N9gk.jpg',\n",
       "    'photo_75': 'https://pp.userapi.com/c631524/v631524059/338e7/J2ETzuoPOXg.jpg',\n",
       "    'photo_807': 'https://pp.userapi.com/c631524/v631524059/338ea/IIyLJ9QMKvY.jpg',\n",
       "    'text': '',\n",
       "    'user_id': 100,\n",
       "    'width': 843},\n",
       "   'type': 'photo'}],\n",
       " 'comments': {'can_post': 1, 'count': 326},\n",
       " 'date': 1462457031,\n",
       " 'from_id': -29425083,\n",
       " 'id': 5664,\n",
       " 'is_pinned': 1,\n",
       " 'key': '-29425083_5664',\n",
       " 'likes': {'can_like': 1, 'can_publish': 1, 'count': 78, 'user_likes': 0},\n",
       " 'marked_as_ads': 0,\n",
       " 'owner_id': -29425083,\n",
       " 'post_source': {'type': 'vk'},\n",
       " 'post_type': 'post',\n",
       " 'reposts': {'count': 3, 'user_reposted': 0},\n",
       " 'text': 'Хотите задать вопрос в нашем сообществе?\\n\\nОбратите внимание: Банк «Санкт-Петербург» может уточнять у вас информацию только с двух официальных профилей, [id74947059|Анастасии Сидоровой] и [id144951380|Банк Санкт-Петербург]. При этом ни при каких обстоятельствах Банк не запрашивает у клиентов полный номер карты, CVV/CVC-коды, пин-коды.\\n\\nБерегите и никому не сообщайте полные данные своих банковских карт ⛔️⛔️⛔️\\n\\n#PRO_безопасность'}"
      ]
     },
     "execution_count": 8,
     "metadata": {},
     "output_type": "execute_result"
    }
   ],
   "source": [
    "raw_data[0]"
   ]
  },
  {
   "cell_type": "markdown",
   "metadata": {},
   "source": [
    "# Препроцессинг"
   ]
  },
  {
   "cell_type": "markdown",
   "metadata": {},
   "source": [
    "## Удаление стоп-слов и другая очистка + стэмминг\n"
   ]
  },
  {
   "cell_type": "code",
   "execution_count": 9,
   "metadata": {
    "collapsed": true
   },
   "outputs": [],
   "source": [
    "tokenizer = RegexpTokenizer(r'[а-я]+')\n",
    "#tokenizer = RegexpTokenizer(r'\\w+')\n",
    "stemmer = SnowballStemmer('russian')\n",
    "sw = stopwords.words('russian')\n",
    "\n",
    "def nltk_preprocess(sentence):\n",
    "    sentence = sentence.lower()\n",
    "    tokens = tokenizer.tokenize(sentence)\n",
    "    filtered_words = [stemmer.stem(word) for word in tokens if word not in sw]\n",
    "    return ' '.join(filtered_words)"
   ]
  },
  {
   "cell_type": "code",
   "execution_count": 10,
   "metadata": {},
   "outputs": [],
   "source": [
    "bank_posts = [nltk_preprocess(post['text']) for post in raw_data]"
   ]
  },
  {
   "cell_type": "code",
   "execution_count": 11,
   "metadata": {},
   "outputs": [
    {
     "data": {
      "text/plain": [
       "'хот зада вопрос наш сообществ обрат вниман банк санкт петербург уточня информац двух официальн профил анастас сидоров банк санкт петербург как обстоятельств банк запрашива клиент полн номер карт код пин код берег ник сообща полн дан сво банковск карт безопасн'"
      ]
     },
     "execution_count": 11,
     "metadata": {},
     "output_type": "execute_result"
    }
   ],
   "source": [
    "bank_posts[0]"
   ]
  },
  {
   "cell_type": "code",
   "execution_count": null,
   "metadata": {
    "collapsed": true
   },
   "outputs": [],
   "source": [
    "# методы векторизации: tfidf, doc2vec, LDA\n",
    "# разное количество кластеров\n",
    "# возможные метрики: силуэт, данн, ХХХ"
   ]
  },
  {
   "cell_type": "code",
   "execution_count": 315,
   "metadata": {},
   "outputs": [
    {
     "ename": "ModuleNotFoundError",
     "evalue": "No module named 'gensim'",
     "output_type": "error",
     "traceback": [
      "\u001b[0;31m---------------------------------------------------------------------------\u001b[0m",
      "\u001b[0;31mModuleNotFoundError\u001b[0m                       Traceback (most recent call last)",
      "\u001b[0;32m<ipython-input-315-ec15f3ffe0f1>\u001b[0m in \u001b[0;36m<module>\u001b[0;34m()\u001b[0m\n\u001b[0;32m----> 1\u001b[0;31m \u001b[0;32mimport\u001b[0m \u001b[0mgensim\u001b[0m\u001b[0;34m\u001b[0m\u001b[0m\n\u001b[0m",
      "\u001b[0;31mModuleNotFoundError\u001b[0m: No module named 'gensim'"
     ]
    }
   ],
   "source": [
    "import gensim"
   ]
  },
  {
   "cell_type": "markdown",
   "metadata": {},
   "source": [
    "# Векторизация"
   ]
  },
  {
   "cell_type": "code",
   "execution_count": 22,
   "metadata": {},
   "outputs": [
    {
     "data": {
      "text/plain": [
       "(400, 4222)"
      ]
     },
     "execution_count": 22,
     "metadata": {},
     "output_type": "execute_result"
    }
   ],
   "source": [
    "vectorizer = TfidfVectorizer()\n",
    "bank_posts_vectorized = vectorizer.fit_transform(bank_posts)\n",
    "bank_posts_vectorized.shape"
   ]
  },
  {
   "cell_type": "code",
   "execution_count": 231,
   "metadata": {},
   "outputs": [
    {
     "data": {
      "text/plain": [
       "(400, 4222)"
      ]
     },
     "execution_count": 231,
     "metadata": {},
     "output_type": "execute_result"
    }
   ],
   "source": [
    "bank_posts_vectorized.shape"
   ]
  },
  {
   "cell_type": "markdown",
   "metadata": {},
   "source": [
    "# Кластеризация"
   ]
  },
  {
   "cell_type": "markdown",
   "metadata": {},
   "source": [
    "## Методы оценки качества кластеризации"
   ]
  },
  {
   "cell_type": "markdown",
   "metadata": {},
   "source": [
    "### Фабрика для оценки кросс-валидации"
   ]
  },
  {
   "cell_type": "code",
   "execution_count": 303,
   "metadata": {},
   "outputs": [],
   "source": [
    "def make_scorer(score_func, greater_is_better=True):\n",
    "    def wrapper(estimator, X):\n",
    "        X_trans = estimator.fit_transform(X)\n",
    "        clusters = estimator.predict(X)\n",
    "        score = score_func(X_trans, clusters)\n",
    "        return score if greater_is_better else -1 * score\n",
    "    return wrapper"
   ]
  },
  {
   "cell_type": "markdown",
   "metadata": {},
   "source": [
    "### Индексы оценки кластеризации"
   ]
  },
  {
   "cell_type": "markdown",
   "metadata": {},
   "source": [
    "#### Индекс Данна"
   ]
  },
  {
   "cell_type": "code",
   "execution_count": 242,
   "metadata": {
    "collapsed": true
   },
   "outputs": [],
   "source": [
    "def dunn_index(X, clusters):\n",
    "    if type(X) != ndarray:\n",
    "        X = X.toarray()\n",
    "    print(X.shape)\n",
    "    distances = pdist(X)\n",
    "    print(distances)"
   ]
  },
  {
   "cell_type": "code",
   "execution_count": 244,
   "metadata": {},
   "outputs": [
    {
     "name": "stdout",
     "output_type": "stream",
     "text": [
      "(400, 4222)\n",
      "[ 1.39397469  1.38690193  1.26784933 ...,  1.30296159  1.3763951\n",
      "  1.37543002]\n"
     ]
    }
   ],
   "source": [
    "dunn_index(bank_posts_vectorized, None)"
   ]
  },
  {
   "cell_type": "markdown",
   "metadata": {},
   "source": [
    "#### Индекс Дэвиса-Болдэна"
   ]
  },
  {
   "cell_type": "code",
   "execution_count": 314,
   "metadata": {},
   "outputs": [],
   "source": [
    "def davies_bouldin_index(X, clusters, p=2):\n",
    "    # Разбиение на массивы по кластерам\n",
    "    clusters_number = clusters.max() + 1\n",
    "    clusters_data = []\n",
    "    for cluster_index in range(clusters_number):\n",
    "        cluster = {}\n",
    "        cluster['X'] = bank_posts_vectorized[clusters == cluster_index, :]\n",
    "        cluster['label'] = cluster_index\n",
    "        cluster['centroid'] = cluster['X'].mean(axis=0).A1\n",
    "        clusters_data.append(cluster)\n",
    "    \n",
    "    # Вычисление Si\n",
    "    for cluster in clusters_data:\n",
    "        X = cluster['X']\n",
    "        centroid = cluster['centroid']\n",
    "        s = power(power(power(X - centroid, p).sum(axis=0), 1 / p).sum() / X.shape[0], 1 / p)\n",
    "        cluster['s'] = s\n",
    "    \n",
    "    # Вычисление Mij\n",
    "    ms = zeros((clusters_number, clusters_number))\n",
    "    for i in range(clusters_number):\n",
    "        for j in range(clusters_number):\n",
    "            if i >= j:\n",
    "                continue\n",
    "            mij = pow(power(clusters_data[i]['centroid'] - clusters_data[j]['centroid'], p).sum(axis=0), 1 / p)\n",
    "            ms[i, j] = mij\n",
    "\n",
    "    # Вычисление Rij\n",
    "    rs = zeros((clusters_number, clusters_number))\n",
    "    for i in range(clusters_number):\n",
    "        for j in range(clusters_number):\n",
    "            if i >= j:\n",
    "                continue\n",
    "            rij = (clusters_data[i]['s'] + clusters_data[j]['s']) / ms[i, j]\n",
    "            rs[i, j] = rij\n",
    "            rs[j, i] = rij\n",
    "    return rs.max(axis=1).mean()"
   ]
  },
  {
   "cell_type": "markdown",
   "metadata": {},
   "source": [
    "## Подбор оптимальных параметров кросс-валидацией"
   ]
  },
  {
   "cell_type": "markdown",
   "metadata": {},
   "source": [
    "### Преобразователь sparse матрицы в dense"
   ]
  },
  {
   "cell_type": "code",
   "execution_count": 257,
   "metadata": {},
   "outputs": [],
   "source": [
    "class ToDense(TransformerMixin, BaseEstimator):\n",
    "    def fit(self, *args, **kwargs):\n",
    "        return self\n",
    "\n",
    "    def transform(self, x):\n",
    "        return x.toarray()"
   ]
  },
  {
   "cell_type": "markdown",
   "metadata": {},
   "source": [
    "### Иерархическая кластеризация для использования в пайплайне"
   ]
  },
  {
   "cell_type": "code",
   "execution_count": 273,
   "metadata": {},
   "outputs": [],
   "source": [
    "class AgglomerativeClusteringPipeline(TransformerMixin, AgglomerativeClustering):\n",
    "    def transform(self, X):\n",
    "        return X\n",
    "    \n",
    "    def predict(self, X, y=None):\n",
    "        return self.labels_"
   ]
  },
  {
   "cell_type": "markdown",
   "metadata": {},
   "source": [
    "### Параметры для подбора оптимального значения"
   ]
  },
  {
   "cell_type": "code",
   "execution_count": 307,
   "metadata": {
    "scrolled": false
   },
   "outputs": [],
   "source": [
    "pipe = Pipeline([\n",
    "    ('dim_red', None),\n",
    "    ('vectorizer', None),\n",
    "    ('todense', ToDense()),\n",
    "    ('clusterization', None), \n",
    "])\n",
    "\n",
    "params = {\n",
    "        'dim_red': [None],\n",
    "        'vectorizer': [TfidfVectorizer()],\n",
    "        'clusterization': [KMeans(), AgglomerativeClusteringPipeline()],\n",
    "        'clusterization__n_clusters': [2, 3, 4, 5, 10, 20, 30, 50, 70, 100]\n",
    "}"
   ]
  },
  {
   "cell_type": "markdown",
   "metadata": {},
   "source": [
    "### Поиск оптимального значения"
   ]
  },
  {
   "cell_type": "code",
   "execution_count": 311,
   "metadata": {},
   "outputs": [
    {
     "data": {
      "text/plain": [
       "GridSearchCV(cv=3, error_score='raise',\n",
       "       estimator=Pipeline(memory=None,\n",
       "     steps=[('dim_red', None), ('vectorizer', None), ('todense', ToDense()), ('clusterization', None)]),\n",
       "       fit_params=None, iid=True, n_jobs=1,\n",
       "       param_grid={'dim_red': [None], 'vectorizer': [TfidfVectorizer(analyzer='word', binary=False, decode_error='strict',\n",
       "        dtype=<class 'numpy.int64'>, encoding='utf-8', input='content',\n",
       "        lowercase=True, max_df=1.0, max_features=None, min_df=1,\n",
       "        ngram_range=(1, 1), norm='l2', preproce...unction mean at 0x109638ea0>)], 'clusterization__n_clusters': [2, 3, 4, 5, 10, 20, 30, 50, 70, 100]},\n",
       "       pre_dispatch='2*n_jobs', refit=True, return_train_score=False,\n",
       "       scoring=<function make_scorer.<locals>.wrapper at 0x1135bdbf8>,\n",
       "       verbose=0)"
      ]
     },
     "execution_count": 311,
     "metadata": {},
     "output_type": "execute_result"
    }
   ],
   "source": [
    "grid_cv = GridSearchCV(pipe, params, scoring=make_scorer(silhouette_score), cv=3, return_train_score=False)\n",
    "grid_cv.fit(bank_posts)"
   ]
  },
  {
   "cell_type": "code",
   "execution_count": 312,
   "metadata": {},
   "outputs": [
    {
     "data": {
      "text/plain": [
       "[('dim_red', None),\n",
       " ('vectorizer',\n",
       "  TfidfVectorizer(analyzer='word', binary=False, decode_error='strict',\n",
       "          dtype=<class 'numpy.int64'>, encoding='utf-8', input='content',\n",
       "          lowercase=True, max_df=1.0, max_features=None, min_df=1,\n",
       "          ngram_range=(1, 1), norm='l2', preprocessor=None, smooth_idf=True,\n",
       "          stop_words=None, strip_accents=None, sublinear_tf=False,\n",
       "          token_pattern='(?u)\\\\b\\\\w\\\\w+\\\\b', tokenizer=None, use_idf=True,\n",
       "          vocabulary=None)),\n",
       " ('todense', ToDense()),\n",
       " ('clusterization',\n",
       "  KMeans(algorithm='auto', copy_x=True, init='k-means++', max_iter=300,\n",
       "      n_clusters=30, n_init=10, n_jobs=1, precompute_distances='auto',\n",
       "      random_state=None, tol=0.0001, verbose=0))]"
      ]
     },
     "execution_count": 312,
     "metadata": {},
     "output_type": "execute_result"
    }
   ],
   "source": [
    "grid_cv.best_estimator_.steps"
   ]
  },
  {
   "cell_type": "code",
   "execution_count": 313,
   "metadata": {},
   "outputs": [
    {
     "data": {
      "text/plain": [
       "0.43043208528114973"
      ]
     },
     "execution_count": 313,
     "metadata": {},
     "output_type": "execute_result"
    }
   ],
   "source": [
    "grid_cv.best_score_"
   ]
  },
  {
   "cell_type": "code",
   "execution_count": 126,
   "metadata": {
    "scrolled": false
   },
   "outputs": [
    {
     "data": {
      "text/plain": [
       "{'mean_fit_time': array([ 0.56215485,  0.57232753,  0.54514535,  0.52013095,  0.47960806,\n",
       "         0.46093067,  0.50245444,  0.43374848,  0.51546184,  0.45659479,\n",
       "         0.5181303 ,  0.76076905,  0.92302871,  1.86239982]),\n",
       " 'mean_score_time': array([ 0.19567744,  0.16526159,  0.17043122,  0.20261637,  0.19794639,\n",
       "         0.17860222,  0.19727945,  0.20228227,  0.21478971,  0.26581883,\n",
       "         0.34569764,  0.5231328 ,  0.70690473,  1.72532145]),\n",
       " 'mean_test_score': array([ 0.27620287,  0.18961625,  0.12513359,  0.17430351,  0.25377097,\n",
       "         0.21201747,  0.18877153,  0.28098638,  0.29898421,  0.39602158,\n",
       "         0.38798723,  0.40341343,  0.27236697,  0.10858015]),\n",
       " 'param_clusterization': masked_array(data = [ KMeans(algorithm='auto', copy_x=True, init='k-means++', max_iter=300,\n",
       "     n_clusters=30, n_init=10, n_jobs=1, precompute_distances='auto',\n",
       "     random_state=None, tol=0.0001, verbose=0)\n",
       "  KMeans(algorithm='auto', copy_x=True, init='k-means++', max_iter=300,\n",
       "     n_clusters=30, n_init=10, n_jobs=1, precompute_distances='auto',\n",
       "     random_state=None, tol=0.0001, verbose=0)\n",
       "  KMeans(algorithm='auto', copy_x=True, init='k-means++', max_iter=300,\n",
       "     n_clusters=30, n_init=10, n_jobs=1, precompute_distances='auto',\n",
       "     random_state=None, tol=0.0001, verbose=0)\n",
       "  KMeans(algorithm='auto', copy_x=True, init='k-means++', max_iter=300,\n",
       "     n_clusters=30, n_init=10, n_jobs=1, precompute_distances='auto',\n",
       "     random_state=None, tol=0.0001, verbose=0)\n",
       "  KMeans(algorithm='auto', copy_x=True, init='k-means++', max_iter=300,\n",
       "     n_clusters=30, n_init=10, n_jobs=1, precompute_distances='auto',\n",
       "     random_state=None, tol=0.0001, verbose=0)\n",
       "  KMeans(algorithm='auto', copy_x=True, init='k-means++', max_iter=300,\n",
       "     n_clusters=30, n_init=10, n_jobs=1, precompute_distances='auto',\n",
       "     random_state=None, tol=0.0001, verbose=0)\n",
       "  KMeans(algorithm='auto', copy_x=True, init='k-means++', max_iter=300,\n",
       "     n_clusters=30, n_init=10, n_jobs=1, precompute_distances='auto',\n",
       "     random_state=None, tol=0.0001, verbose=0)\n",
       "  KMeans(algorithm='auto', copy_x=True, init='k-means++', max_iter=300,\n",
       "     n_clusters=30, n_init=10, n_jobs=1, precompute_distances='auto',\n",
       "     random_state=None, tol=0.0001, verbose=0)\n",
       "  KMeans(algorithm='auto', copy_x=True, init='k-means++', max_iter=300,\n",
       "     n_clusters=30, n_init=10, n_jobs=1, precompute_distances='auto',\n",
       "     random_state=None, tol=0.0001, verbose=0)\n",
       "  KMeans(algorithm='auto', copy_x=True, init='k-means++', max_iter=300,\n",
       "     n_clusters=30, n_init=10, n_jobs=1, precompute_distances='auto',\n",
       "     random_state=None, tol=0.0001, verbose=0)\n",
       "  KMeans(algorithm='auto', copy_x=True, init='k-means++', max_iter=300,\n",
       "     n_clusters=30, n_init=10, n_jobs=1, precompute_distances='auto',\n",
       "     random_state=None, tol=0.0001, verbose=0)\n",
       "  KMeans(algorithm='auto', copy_x=True, init='k-means++', max_iter=300,\n",
       "     n_clusters=30, n_init=10, n_jobs=1, precompute_distances='auto',\n",
       "     random_state=None, tol=0.0001, verbose=0)\n",
       "  KMeans(algorithm='auto', copy_x=True, init='k-means++', max_iter=300,\n",
       "     n_clusters=30, n_init=10, n_jobs=1, precompute_distances='auto',\n",
       "     random_state=None, tol=0.0001, verbose=0)\n",
       "  KMeans(algorithm='auto', copy_x=True, init='k-means++', max_iter=300,\n",
       "     n_clusters=30, n_init=10, n_jobs=1, precompute_distances='auto',\n",
       "     random_state=None, tol=0.0001, verbose=0)],\n",
       "              mask = [False False False False False False False False False False False False\n",
       "  False False],\n",
       "        fill_value = ?),\n",
       " 'param_clusterization__n_clusters': masked_array(data = [2 3 4 5 6 7 8 9 10 15 20 30 50 100],\n",
       "              mask = [False False False False False False False False False False False False\n",
       "  False False],\n",
       "        fill_value = ?),\n",
       " 'param_vectorizer': masked_array(data = [ TfidfVectorizer(analyzer='word', binary=False, decode_error='strict',\n",
       "         dtype=<class 'numpy.int64'>, encoding='utf-8', input='content',\n",
       "         lowercase=True, max_df=1.0, max_features=None, min_df=1,\n",
       "         ngram_range=(1, 1), norm='l2', preprocessor=None, smooth_idf=True,\n",
       "         stop_words=None, strip_accents=None, sublinear_tf=False,\n",
       "         token_pattern='(?u)\\\\b\\\\w\\\\w+\\\\b', tokenizer=None, use_idf=True,\n",
       "         vocabulary=None)\n",
       "  TfidfVectorizer(analyzer='word', binary=False, decode_error='strict',\n",
       "         dtype=<class 'numpy.int64'>, encoding='utf-8', input='content',\n",
       "         lowercase=True, max_df=1.0, max_features=None, min_df=1,\n",
       "         ngram_range=(1, 1), norm='l2', preprocessor=None, smooth_idf=True,\n",
       "         stop_words=None, strip_accents=None, sublinear_tf=False,\n",
       "         token_pattern='(?u)\\\\b\\\\w\\\\w+\\\\b', tokenizer=None, use_idf=True,\n",
       "         vocabulary=None)\n",
       "  TfidfVectorizer(analyzer='word', binary=False, decode_error='strict',\n",
       "         dtype=<class 'numpy.int64'>, encoding='utf-8', input='content',\n",
       "         lowercase=True, max_df=1.0, max_features=None, min_df=1,\n",
       "         ngram_range=(1, 1), norm='l2', preprocessor=None, smooth_idf=True,\n",
       "         stop_words=None, strip_accents=None, sublinear_tf=False,\n",
       "         token_pattern='(?u)\\\\b\\\\w\\\\w+\\\\b', tokenizer=None, use_idf=True,\n",
       "         vocabulary=None)\n",
       "  TfidfVectorizer(analyzer='word', binary=False, decode_error='strict',\n",
       "         dtype=<class 'numpy.int64'>, encoding='utf-8', input='content',\n",
       "         lowercase=True, max_df=1.0, max_features=None, min_df=1,\n",
       "         ngram_range=(1, 1), norm='l2', preprocessor=None, smooth_idf=True,\n",
       "         stop_words=None, strip_accents=None, sublinear_tf=False,\n",
       "         token_pattern='(?u)\\\\b\\\\w\\\\w+\\\\b', tokenizer=None, use_idf=True,\n",
       "         vocabulary=None)\n",
       "  TfidfVectorizer(analyzer='word', binary=False, decode_error='strict',\n",
       "         dtype=<class 'numpy.int64'>, encoding='utf-8', input='content',\n",
       "         lowercase=True, max_df=1.0, max_features=None, min_df=1,\n",
       "         ngram_range=(1, 1), norm='l2', preprocessor=None, smooth_idf=True,\n",
       "         stop_words=None, strip_accents=None, sublinear_tf=False,\n",
       "         token_pattern='(?u)\\\\b\\\\w\\\\w+\\\\b', tokenizer=None, use_idf=True,\n",
       "         vocabulary=None)\n",
       "  TfidfVectorizer(analyzer='word', binary=False, decode_error='strict',\n",
       "         dtype=<class 'numpy.int64'>, encoding='utf-8', input='content',\n",
       "         lowercase=True, max_df=1.0, max_features=None, min_df=1,\n",
       "         ngram_range=(1, 1), norm='l2', preprocessor=None, smooth_idf=True,\n",
       "         stop_words=None, strip_accents=None, sublinear_tf=False,\n",
       "         token_pattern='(?u)\\\\b\\\\w\\\\w+\\\\b', tokenizer=None, use_idf=True,\n",
       "         vocabulary=None)\n",
       "  TfidfVectorizer(analyzer='word', binary=False, decode_error='strict',\n",
       "         dtype=<class 'numpy.int64'>, encoding='utf-8', input='content',\n",
       "         lowercase=True, max_df=1.0, max_features=None, min_df=1,\n",
       "         ngram_range=(1, 1), norm='l2', preprocessor=None, smooth_idf=True,\n",
       "         stop_words=None, strip_accents=None, sublinear_tf=False,\n",
       "         token_pattern='(?u)\\\\b\\\\w\\\\w+\\\\b', tokenizer=None, use_idf=True,\n",
       "         vocabulary=None)\n",
       "  TfidfVectorizer(analyzer='word', binary=False, decode_error='strict',\n",
       "         dtype=<class 'numpy.int64'>, encoding='utf-8', input='content',\n",
       "         lowercase=True, max_df=1.0, max_features=None, min_df=1,\n",
       "         ngram_range=(1, 1), norm='l2', preprocessor=None, smooth_idf=True,\n",
       "         stop_words=None, strip_accents=None, sublinear_tf=False,\n",
       "         token_pattern='(?u)\\\\b\\\\w\\\\w+\\\\b', tokenizer=None, use_idf=True,\n",
       "         vocabulary=None)\n",
       "  TfidfVectorizer(analyzer='word', binary=False, decode_error='strict',\n",
       "         dtype=<class 'numpy.int64'>, encoding='utf-8', input='content',\n",
       "         lowercase=True, max_df=1.0, max_features=None, min_df=1,\n",
       "         ngram_range=(1, 1), norm='l2', preprocessor=None, smooth_idf=True,\n",
       "         stop_words=None, strip_accents=None, sublinear_tf=False,\n",
       "         token_pattern='(?u)\\\\b\\\\w\\\\w+\\\\b', tokenizer=None, use_idf=True,\n",
       "         vocabulary=None)\n",
       "  TfidfVectorizer(analyzer='word', binary=False, decode_error='strict',\n",
       "         dtype=<class 'numpy.int64'>, encoding='utf-8', input='content',\n",
       "         lowercase=True, max_df=1.0, max_features=None, min_df=1,\n",
       "         ngram_range=(1, 1), norm='l2', preprocessor=None, smooth_idf=True,\n",
       "         stop_words=None, strip_accents=None, sublinear_tf=False,\n",
       "         token_pattern='(?u)\\\\b\\\\w\\\\w+\\\\b', tokenizer=None, use_idf=True,\n",
       "         vocabulary=None)\n",
       "  TfidfVectorizer(analyzer='word', binary=False, decode_error='strict',\n",
       "         dtype=<class 'numpy.int64'>, encoding='utf-8', input='content',\n",
       "         lowercase=True, max_df=1.0, max_features=None, min_df=1,\n",
       "         ngram_range=(1, 1), norm='l2', preprocessor=None, smooth_idf=True,\n",
       "         stop_words=None, strip_accents=None, sublinear_tf=False,\n",
       "         token_pattern='(?u)\\\\b\\\\w\\\\w+\\\\b', tokenizer=None, use_idf=True,\n",
       "         vocabulary=None)\n",
       "  TfidfVectorizer(analyzer='word', binary=False, decode_error='strict',\n",
       "         dtype=<class 'numpy.int64'>, encoding='utf-8', input='content',\n",
       "         lowercase=True, max_df=1.0, max_features=None, min_df=1,\n",
       "         ngram_range=(1, 1), norm='l2', preprocessor=None, smooth_idf=True,\n",
       "         stop_words=None, strip_accents=None, sublinear_tf=False,\n",
       "         token_pattern='(?u)\\\\b\\\\w\\\\w+\\\\b', tokenizer=None, use_idf=True,\n",
       "         vocabulary=None)\n",
       "  TfidfVectorizer(analyzer='word', binary=False, decode_error='strict',\n",
       "         dtype=<class 'numpy.int64'>, encoding='utf-8', input='content',\n",
       "         lowercase=True, max_df=1.0, max_features=None, min_df=1,\n",
       "         ngram_range=(1, 1), norm='l2', preprocessor=None, smooth_idf=True,\n",
       "         stop_words=None, strip_accents=None, sublinear_tf=False,\n",
       "         token_pattern='(?u)\\\\b\\\\w\\\\w+\\\\b', tokenizer=None, use_idf=True,\n",
       "         vocabulary=None)\n",
       "  TfidfVectorizer(analyzer='word', binary=False, decode_error='strict',\n",
       "         dtype=<class 'numpy.int64'>, encoding='utf-8', input='content',\n",
       "         lowercase=True, max_df=1.0, max_features=None, min_df=1,\n",
       "         ngram_range=(1, 1), norm='l2', preprocessor=None, smooth_idf=True,\n",
       "         stop_words=None, strip_accents=None, sublinear_tf=False,\n",
       "         token_pattern='(?u)\\\\b\\\\w\\\\w+\\\\b', tokenizer=None, use_idf=True,\n",
       "         vocabulary=None)],\n",
       "              mask = [False False False False False False False False False False False False\n",
       "  False False],\n",
       "        fill_value = ?),\n",
       " 'params': [{'clusterization': KMeans(algorithm='auto', copy_x=True, init='k-means++', max_iter=300,\n",
       "       n_clusters=30, n_init=10, n_jobs=1, precompute_distances='auto',\n",
       "       random_state=None, tol=0.0001, verbose=0),\n",
       "   'clusterization__n_clusters': 2,\n",
       "   'vectorizer': TfidfVectorizer(analyzer='word', binary=False, decode_error='strict',\n",
       "           dtype=<class 'numpy.int64'>, encoding='utf-8', input='content',\n",
       "           lowercase=True, max_df=1.0, max_features=None, min_df=1,\n",
       "           ngram_range=(1, 1), norm='l2', preprocessor=None, smooth_idf=True,\n",
       "           stop_words=None, strip_accents=None, sublinear_tf=False,\n",
       "           token_pattern='(?u)\\\\b\\\\w\\\\w+\\\\b', tokenizer=None, use_idf=True,\n",
       "           vocabulary=None)},\n",
       "  {'clusterization': KMeans(algorithm='auto', copy_x=True, init='k-means++', max_iter=300,\n",
       "       n_clusters=30, n_init=10, n_jobs=1, precompute_distances='auto',\n",
       "       random_state=None, tol=0.0001, verbose=0),\n",
       "   'clusterization__n_clusters': 3,\n",
       "   'vectorizer': TfidfVectorizer(analyzer='word', binary=False, decode_error='strict',\n",
       "           dtype=<class 'numpy.int64'>, encoding='utf-8', input='content',\n",
       "           lowercase=True, max_df=1.0, max_features=None, min_df=1,\n",
       "           ngram_range=(1, 1), norm='l2', preprocessor=None, smooth_idf=True,\n",
       "           stop_words=None, strip_accents=None, sublinear_tf=False,\n",
       "           token_pattern='(?u)\\\\b\\\\w\\\\w+\\\\b', tokenizer=None, use_idf=True,\n",
       "           vocabulary=None)},\n",
       "  {'clusterization': KMeans(algorithm='auto', copy_x=True, init='k-means++', max_iter=300,\n",
       "       n_clusters=30, n_init=10, n_jobs=1, precompute_distances='auto',\n",
       "       random_state=None, tol=0.0001, verbose=0),\n",
       "   'clusterization__n_clusters': 4,\n",
       "   'vectorizer': TfidfVectorizer(analyzer='word', binary=False, decode_error='strict',\n",
       "           dtype=<class 'numpy.int64'>, encoding='utf-8', input='content',\n",
       "           lowercase=True, max_df=1.0, max_features=None, min_df=1,\n",
       "           ngram_range=(1, 1), norm='l2', preprocessor=None, smooth_idf=True,\n",
       "           stop_words=None, strip_accents=None, sublinear_tf=False,\n",
       "           token_pattern='(?u)\\\\b\\\\w\\\\w+\\\\b', tokenizer=None, use_idf=True,\n",
       "           vocabulary=None)},\n",
       "  {'clusterization': KMeans(algorithm='auto', copy_x=True, init='k-means++', max_iter=300,\n",
       "       n_clusters=30, n_init=10, n_jobs=1, precompute_distances='auto',\n",
       "       random_state=None, tol=0.0001, verbose=0),\n",
       "   'clusterization__n_clusters': 5,\n",
       "   'vectorizer': TfidfVectorizer(analyzer='word', binary=False, decode_error='strict',\n",
       "           dtype=<class 'numpy.int64'>, encoding='utf-8', input='content',\n",
       "           lowercase=True, max_df=1.0, max_features=None, min_df=1,\n",
       "           ngram_range=(1, 1), norm='l2', preprocessor=None, smooth_idf=True,\n",
       "           stop_words=None, strip_accents=None, sublinear_tf=False,\n",
       "           token_pattern='(?u)\\\\b\\\\w\\\\w+\\\\b', tokenizer=None, use_idf=True,\n",
       "           vocabulary=None)},\n",
       "  {'clusterization': KMeans(algorithm='auto', copy_x=True, init='k-means++', max_iter=300,\n",
       "       n_clusters=30, n_init=10, n_jobs=1, precompute_distances='auto',\n",
       "       random_state=None, tol=0.0001, verbose=0),\n",
       "   'clusterization__n_clusters': 6,\n",
       "   'vectorizer': TfidfVectorizer(analyzer='word', binary=False, decode_error='strict',\n",
       "           dtype=<class 'numpy.int64'>, encoding='utf-8', input='content',\n",
       "           lowercase=True, max_df=1.0, max_features=None, min_df=1,\n",
       "           ngram_range=(1, 1), norm='l2', preprocessor=None, smooth_idf=True,\n",
       "           stop_words=None, strip_accents=None, sublinear_tf=False,\n",
       "           token_pattern='(?u)\\\\b\\\\w\\\\w+\\\\b', tokenizer=None, use_idf=True,\n",
       "           vocabulary=None)},\n",
       "  {'clusterization': KMeans(algorithm='auto', copy_x=True, init='k-means++', max_iter=300,\n",
       "       n_clusters=30, n_init=10, n_jobs=1, precompute_distances='auto',\n",
       "       random_state=None, tol=0.0001, verbose=0),\n",
       "   'clusterization__n_clusters': 7,\n",
       "   'vectorizer': TfidfVectorizer(analyzer='word', binary=False, decode_error='strict',\n",
       "           dtype=<class 'numpy.int64'>, encoding='utf-8', input='content',\n",
       "           lowercase=True, max_df=1.0, max_features=None, min_df=1,\n",
       "           ngram_range=(1, 1), norm='l2', preprocessor=None, smooth_idf=True,\n",
       "           stop_words=None, strip_accents=None, sublinear_tf=False,\n",
       "           token_pattern='(?u)\\\\b\\\\w\\\\w+\\\\b', tokenizer=None, use_idf=True,\n",
       "           vocabulary=None)},\n",
       "  {'clusterization': KMeans(algorithm='auto', copy_x=True, init='k-means++', max_iter=300,\n",
       "       n_clusters=30, n_init=10, n_jobs=1, precompute_distances='auto',\n",
       "       random_state=None, tol=0.0001, verbose=0),\n",
       "   'clusterization__n_clusters': 8,\n",
       "   'vectorizer': TfidfVectorizer(analyzer='word', binary=False, decode_error='strict',\n",
       "           dtype=<class 'numpy.int64'>, encoding='utf-8', input='content',\n",
       "           lowercase=True, max_df=1.0, max_features=None, min_df=1,\n",
       "           ngram_range=(1, 1), norm='l2', preprocessor=None, smooth_idf=True,\n",
       "           stop_words=None, strip_accents=None, sublinear_tf=False,\n",
       "           token_pattern='(?u)\\\\b\\\\w\\\\w+\\\\b', tokenizer=None, use_idf=True,\n",
       "           vocabulary=None)},\n",
       "  {'clusterization': KMeans(algorithm='auto', copy_x=True, init='k-means++', max_iter=300,\n",
       "       n_clusters=30, n_init=10, n_jobs=1, precompute_distances='auto',\n",
       "       random_state=None, tol=0.0001, verbose=0),\n",
       "   'clusterization__n_clusters': 9,\n",
       "   'vectorizer': TfidfVectorizer(analyzer='word', binary=False, decode_error='strict',\n",
       "           dtype=<class 'numpy.int64'>, encoding='utf-8', input='content',\n",
       "           lowercase=True, max_df=1.0, max_features=None, min_df=1,\n",
       "           ngram_range=(1, 1), norm='l2', preprocessor=None, smooth_idf=True,\n",
       "           stop_words=None, strip_accents=None, sublinear_tf=False,\n",
       "           token_pattern='(?u)\\\\b\\\\w\\\\w+\\\\b', tokenizer=None, use_idf=True,\n",
       "           vocabulary=None)},\n",
       "  {'clusterization': KMeans(algorithm='auto', copy_x=True, init='k-means++', max_iter=300,\n",
       "       n_clusters=30, n_init=10, n_jobs=1, precompute_distances='auto',\n",
       "       random_state=None, tol=0.0001, verbose=0),\n",
       "   'clusterization__n_clusters': 10,\n",
       "   'vectorizer': TfidfVectorizer(analyzer='word', binary=False, decode_error='strict',\n",
       "           dtype=<class 'numpy.int64'>, encoding='utf-8', input='content',\n",
       "           lowercase=True, max_df=1.0, max_features=None, min_df=1,\n",
       "           ngram_range=(1, 1), norm='l2', preprocessor=None, smooth_idf=True,\n",
       "           stop_words=None, strip_accents=None, sublinear_tf=False,\n",
       "           token_pattern='(?u)\\\\b\\\\w\\\\w+\\\\b', tokenizer=None, use_idf=True,\n",
       "           vocabulary=None)},\n",
       "  {'clusterization': KMeans(algorithm='auto', copy_x=True, init='k-means++', max_iter=300,\n",
       "       n_clusters=30, n_init=10, n_jobs=1, precompute_distances='auto',\n",
       "       random_state=None, tol=0.0001, verbose=0),\n",
       "   'clusterization__n_clusters': 15,\n",
       "   'vectorizer': TfidfVectorizer(analyzer='word', binary=False, decode_error='strict',\n",
       "           dtype=<class 'numpy.int64'>, encoding='utf-8', input='content',\n",
       "           lowercase=True, max_df=1.0, max_features=None, min_df=1,\n",
       "           ngram_range=(1, 1), norm='l2', preprocessor=None, smooth_idf=True,\n",
       "           stop_words=None, strip_accents=None, sublinear_tf=False,\n",
       "           token_pattern='(?u)\\\\b\\\\w\\\\w+\\\\b', tokenizer=None, use_idf=True,\n",
       "           vocabulary=None)},\n",
       "  {'clusterization': KMeans(algorithm='auto', copy_x=True, init='k-means++', max_iter=300,\n",
       "       n_clusters=30, n_init=10, n_jobs=1, precompute_distances='auto',\n",
       "       random_state=None, tol=0.0001, verbose=0),\n",
       "   'clusterization__n_clusters': 20,\n",
       "   'vectorizer': TfidfVectorizer(analyzer='word', binary=False, decode_error='strict',\n",
       "           dtype=<class 'numpy.int64'>, encoding='utf-8', input='content',\n",
       "           lowercase=True, max_df=1.0, max_features=None, min_df=1,\n",
       "           ngram_range=(1, 1), norm='l2', preprocessor=None, smooth_idf=True,\n",
       "           stop_words=None, strip_accents=None, sublinear_tf=False,\n",
       "           token_pattern='(?u)\\\\b\\\\w\\\\w+\\\\b', tokenizer=None, use_idf=True,\n",
       "           vocabulary=None)},\n",
       "  {'clusterization': KMeans(algorithm='auto', copy_x=True, init='k-means++', max_iter=300,\n",
       "       n_clusters=30, n_init=10, n_jobs=1, precompute_distances='auto',\n",
       "       random_state=None, tol=0.0001, verbose=0),\n",
       "   'clusterization__n_clusters': 30,\n",
       "   'vectorizer': TfidfVectorizer(analyzer='word', binary=False, decode_error='strict',\n",
       "           dtype=<class 'numpy.int64'>, encoding='utf-8', input='content',\n",
       "           lowercase=True, max_df=1.0, max_features=None, min_df=1,\n",
       "           ngram_range=(1, 1), norm='l2', preprocessor=None, smooth_idf=True,\n",
       "           stop_words=None, strip_accents=None, sublinear_tf=False,\n",
       "           token_pattern='(?u)\\\\b\\\\w\\\\w+\\\\b', tokenizer=None, use_idf=True,\n",
       "           vocabulary=None)},\n",
       "  {'clusterization': KMeans(algorithm='auto', copy_x=True, init='k-means++', max_iter=300,\n",
       "       n_clusters=30, n_init=10, n_jobs=1, precompute_distances='auto',\n",
       "       random_state=None, tol=0.0001, verbose=0),\n",
       "   'clusterization__n_clusters': 50,\n",
       "   'vectorizer': TfidfVectorizer(analyzer='word', binary=False, decode_error='strict',\n",
       "           dtype=<class 'numpy.int64'>, encoding='utf-8', input='content',\n",
       "           lowercase=True, max_df=1.0, max_features=None, min_df=1,\n",
       "           ngram_range=(1, 1), norm='l2', preprocessor=None, smooth_idf=True,\n",
       "           stop_words=None, strip_accents=None, sublinear_tf=False,\n",
       "           token_pattern='(?u)\\\\b\\\\w\\\\w+\\\\b', tokenizer=None, use_idf=True,\n",
       "           vocabulary=None)},\n",
       "  {'clusterization': KMeans(algorithm='auto', copy_x=True, init='k-means++', max_iter=300,\n",
       "       n_clusters=30, n_init=10, n_jobs=1, precompute_distances='auto',\n",
       "       random_state=None, tol=0.0001, verbose=0),\n",
       "   'clusterization__n_clusters': 100,\n",
       "   'vectorizer': TfidfVectorizer(analyzer='word', binary=False, decode_error='strict',\n",
       "           dtype=<class 'numpy.int64'>, encoding='utf-8', input='content',\n",
       "           lowercase=True, max_df=1.0, max_features=None, min_df=1,\n",
       "           ngram_range=(1, 1), norm='l2', preprocessor=None, smooth_idf=True,\n",
       "           stop_words=None, strip_accents=None, sublinear_tf=False,\n",
       "           token_pattern='(?u)\\\\b\\\\w\\\\w+\\\\b', tokenizer=None, use_idf=True,\n",
       "           vocabulary=None)}],\n",
       " 'rank_test_score': array([ 6, 10, 13, 12,  8,  9, 11,  5,  4,  2,  3,  1,  7, 14]),\n",
       " 'split0_test_score': array([ 0.43085662,  0.30177005,  0.23543238,  0.21518388,  0.23565136,\n",
       "         0.30084369,  0.30206738,  0.27717761,  0.34645641,  0.40086915,\n",
       "         0.44565868,  0.48641559,  0.36721749,  0.11813402]),\n",
       " 'split1_test_score': array([ 0.07949805,  0.04536533,  0.14253871,  0.11492148,  0.3059916 ,\n",
       "         0.17739327,  0.09887886,  0.24561542,  0.28253131,  0.46200724,\n",
       "         0.29677797,  0.26961296,  0.15954866,  0.14624675]),\n",
       " 'split2_test_score': array([ 0.31709115,  0.22087013, -0.00339962,  0.19249778,  0.21980619,\n",
       "         0.15714758,  0.16451649,  0.32019473,  0.26760796,  0.32515191,\n",
       "         0.42109142,  0.45358767,  0.2896216 ,  0.06128784]),\n",
       " 'std_fit_time': array([ 0.08661388,  0.01736411,  0.0699938 ,  0.09562788,  0.06047279,\n",
       "         0.10668539,  0.05323219,  0.0586465 ,  0.0507278 ,  0.0695818 ,\n",
       "         0.07055333,  0.07063813,  0.04741405,  0.26651088]),\n",
       " 'std_score_time': array([ 0.03711439,  0.01577997,  0.01363562,  0.03024941,  0.01228417,\n",
       "         0.00981216,  0.00703184,  0.00606323,  0.01062331,  0.01695229,\n",
       "         0.03239384,  0.04117646,  0.02227245,  0.23843802]),\n",
       " 'std_test_score': array([ 0.14640252,  0.10703899,  0.0983333 ,  0.04292309,  0.03742041,\n",
       "         0.06358345,  0.08474954,  0.03052872,  0.0342389 ,  0.05590704,\n",
       "         0.06515138,  0.0953813 ,  0.08570246,  0.03529839])}"
      ]
     },
     "execution_count": 126,
     "metadata": {},
     "output_type": "execute_result"
    }
   ],
   "source": [
    "grid_cv.cv_results_"
   ]
  },
  {
   "cell_type": "markdown",
   "metadata": {},
   "source": [
    "## Определение количества кластеров"
   ]
  },
  {
   "cell_type": "markdown",
   "metadata": {},
   "source": [
    "## K-means"
   ]
  },
  {
   "cell_type": "markdown",
   "metadata": {},
   "source": [
    "## Иерархическая"
   ]
  },
  {
   "cell_type": "markdown",
   "metadata": {},
   "source": [
    "### Дендрограмма"
   ]
  },
  {
   "cell_type": "code",
   "execution_count": 93,
   "metadata": {},
   "outputs": [
    {
     "data": {
      "image/png": "[encoded data removed]",
      "text/plain": [
       "<matplotlib.figure.Figure at 0x204d48a7940>"
      ]
     },
     "metadata": {},
     "output_type": "display_data"
    }
   ],
   "source": [
    "figsize(16,10)\n",
    "dendro_dict = hierarchy.dendrogram(hierarchy.linkage(bank_posts_vectorized.toarray()), color_threshold=.99)"
   ]
  },
  {
   "cell_type": "code",
   "execution_count": 73,
   "metadata": {},
   "outputs": [
    {
     "data": {
      "text/plain": [
       "'момент запуск сервис appl pa накоп вопрос сегодн отвеча сам популярн вопрос хоч appl pa подключ ответ подключен карт appl pa iphon se iphon 6 нов модел такж appl watch откройт приложен wallet косн значк введ дан ваш карт следу инструкц экран вопрос работа appl pa мо устройств appl ответ appl pa доступ пользовател устройств iphon модел 6 7 поколен такж iphon se ipad ipad pro ipad air 2 ipad min 4 ipad min 3 appl watch appl watch series 1 2 appl watch 1 го поколен mac вопрос карт ярк подключ appl pa ответ вопрос оплат appl pa счита оплат карт ответ имен вопрос оплачива покупк смартфон appl привяза карт ваш банк будут начисля бонус ярк ответ кажд бонусируем покупк будут начисля бонус ваш ставк 0 5 2 вопрос мог возмест ярк бонус стоимост поездк метр котор оплат appl pa ответ возмещен операц совершен помощ appl pa доступн оплат карт вопрос планир подключен карт vis систем appl pa ответ планиру нача предоставля сервис appl pa карт vis 2017 год точн информац срок пок нача пользова сервис appl pa возникл вопрос стесня задава applepa faq faqbspb'"
      ]
     },
     "execution_count": 73,
     "metadata": {},
     "output_type": "execute_result"
    }
   ],
   "source": [
    "bank_posts[221]"
   ]
  },
  {
   "cell_type": "code",
   "execution_count": 91,
   "metadata": {},
   "outputs": [
    {
     "data": {
      "text/plain": [
       "['363',\n",
       " '155',\n",
       " '395',\n",
       " '227',\n",
       " '131',\n",
       " '101',\n",
       " '356',\n",
       " '316',\n",
       " '300',\n",
       " '205',\n",
       " '29',\n",
       " '373',\n",
       " '359',\n",
       " '348',\n",
       " '324',\n",
       " '299',\n",
       " '220',\n",
       " '207',\n",
       " '206',\n",
       " '188',\n",
       " '124',\n",
       " '80',\n",
       " '60',\n",
       " '389',\n",
       " '387',\n",
       " '385',\n",
       " '383',\n",
       " '382',\n",
       " '376',\n",
       " '378',\n",
       " '375',\n",
       " '371',\n",
       " '369',\n",
       " '364',\n",
       " '361',\n",
       " '360',\n",
       " '358',\n",
       " '335',\n",
       " '333',\n",
       " '331',\n",
       " '329',\n",
       " '325',\n",
       " '321',\n",
       " '318',\n",
       " '312',\n",
       " '276',\n",
       " '260',\n",
       " '259',\n",
       " '273',\n",
       " '252',\n",
       " '262',\n",
       " '244',\n",
       " '229',\n",
       " '226',\n",
       " '219',\n",
       " '215',\n",
       " '201',\n",
       " '198',\n",
       " '194',\n",
       " '181',\n",
       " '172',\n",
       " '170',\n",
       " '167',\n",
       " '164',\n",
       " '159',\n",
       " '158',\n",
       " '153',\n",
       " '152',\n",
       " '146',\n",
       " '135',\n",
       " '134',\n",
       " '125',\n",
       " '106',\n",
       " '89',\n",
       " '86',\n",
       " '84',\n",
       " '78',\n",
       " '69',\n",
       " '68',\n",
       " '64',\n",
       " '62',\n",
       " '55',\n",
       " '42',\n",
       " '31',\n",
       " '30',\n",
       " '25',\n",
       " '24',\n",
       " '12',\n",
       " '4',\n",
       " '0',\n",
       " '399',\n",
       " '397',\n",
       " '392',\n",
       " '390',\n",
       " '386',\n",
       " '372',\n",
       " '368',\n",
       " '367',\n",
       " '355',\n",
       " '353',\n",
       " '343',\n",
       " '341',\n",
       " '339',\n",
       " '338',\n",
       " '337',\n",
       " '332',\n",
       " '328',\n",
       " '326',\n",
       " '322',\n",
       " '319',\n",
       " '313',\n",
       " '311',\n",
       " '310',\n",
       " '309',\n",
       " '306',\n",
       " '304',\n",
       " '303',\n",
       " '298',\n",
       " '296',\n",
       " '294',\n",
       " '289',\n",
       " '287',\n",
       " '286',\n",
       " '284',\n",
       " '278',\n",
       " '277',\n",
       " '275',\n",
       " '269',\n",
       " '268',\n",
       " '267',\n",
       " '266',\n",
       " '264',\n",
       " '263',\n",
       " '261',\n",
       " '256',\n",
       " '246',\n",
       " '254',\n",
       " '253',\n",
       " '249',\n",
       " '242',\n",
       " '241',\n",
       " '240',\n",
       " '234',\n",
       " '233',\n",
       " '232',\n",
       " '231',\n",
       " '230',\n",
       " '224',\n",
       " '222',\n",
       " '217',\n",
       " '213',\n",
       " '212',\n",
       " '203',\n",
       " '191',\n",
       " '189',\n",
       " '185',\n",
       " '182',\n",
       " '179',\n",
       " '175',\n",
       " '166',\n",
       " '165',\n",
       " '162',\n",
       " '157',\n",
       " '156',\n",
       " '154',\n",
       " '148',\n",
       " '147',\n",
       " '142',\n",
       " '137',\n",
       " '128',\n",
       " '119',\n",
       " '114',\n",
       " '113',\n",
       " '111',\n",
       " '109',\n",
       " '107',\n",
       " '103',\n",
       " '102',\n",
       " '100',\n",
       " '99',\n",
       " '140',\n",
       " '151',\n",
       " '96',\n",
       " '95',\n",
       " '93',\n",
       " '92',\n",
       " '90',\n",
       " '88',\n",
       " '82',\n",
       " '83',\n",
       " '81',\n",
       " '79',\n",
       " '94',\n",
       " '77',\n",
       " '76',\n",
       " '72',\n",
       " '71',\n",
       " '70',\n",
       " '67',\n",
       " '63',\n",
       " '58',\n",
       " '57',\n",
       " '54',\n",
       " '46',\n",
       " '45',\n",
       " '44',\n",
       " '73',\n",
       " '43',\n",
       " '40',\n",
       " '39',\n",
       " '38',\n",
       " '36',\n",
       " '34',\n",
       " '35',\n",
       " '27',\n",
       " '26',\n",
       " '20',\n",
       " '19',\n",
       " '118',\n",
       " '9',\n",
       " '169',\n",
       " '5',\n",
       " '1',\n",
       " '394',\n",
       " '388',\n",
       " '381',\n",
       " '377',\n",
       " '374',\n",
       " '370',\n",
       " '366',\n",
       " '352',\n",
       " '347',\n",
       " '334',\n",
       " '308',\n",
       " '349',\n",
       " '307',\n",
       " '340',\n",
       " '346',\n",
       " '362',\n",
       " '258',\n",
       " '295',\n",
       " '293',\n",
       " '354',\n",
       " '279',\n",
       " '280',\n",
       " '272',\n",
       " '350',\n",
       " '271',\n",
       " '290',\n",
       " '270',\n",
       " '247',\n",
       " '243',\n",
       " '236',\n",
       " '235',\n",
       " '228',\n",
       " '283',\n",
       " '193',\n",
       " '223',\n",
       " '216',\n",
       " '195',\n",
       " '186',\n",
       " '180',\n",
       " '177',\n",
       " '330',\n",
       " '173',\n",
       " '168',\n",
       " '245',\n",
       " '160',\n",
       " '149',\n",
       " '145',\n",
       " '141',\n",
       " '282',\n",
       " '138',\n",
       " '136',\n",
       " '132',\n",
       " '129',\n",
       " '126',\n",
       " '123',\n",
       " '121',\n",
       " '115',\n",
       " '112',\n",
       " '108',\n",
       " '104',\n",
       " '87',\n",
       " '85',\n",
       " '75',\n",
       " '74',\n",
       " '66',\n",
       " '65',\n",
       " '61',\n",
       " '53',\n",
       " '52',\n",
       " '50',\n",
       " '47',\n",
       " '37',\n",
       " '33',\n",
       " '32',\n",
       " '23',\n",
       " '22',\n",
       " '21',\n",
       " '18',\n",
       " '127',\n",
       " '15',\n",
       " '11',\n",
       " '171',\n",
       " '238',\n",
       " '8',\n",
       " '3',\n",
       " '16',\n",
       " '2',\n",
       " '396',\n",
       " '393',\n",
       " '384',\n",
       " '380',\n",
       " '365',\n",
       " '398',\n",
       " '344',\n",
       " '342',\n",
       " '336',\n",
       " '327',\n",
       " '320',\n",
       " '315',\n",
       " '302',\n",
       " '291',\n",
       " '285',\n",
       " '281',\n",
       " '251',\n",
       " '248',\n",
       " '187',\n",
       " '239',\n",
       " '28',\n",
       " '51',\n",
       " '218',\n",
       " '305',\n",
       " '225',\n",
       " '210',\n",
       " '250',\n",
       " '208',\n",
       " '199',\n",
       " '192',\n",
       " '178',\n",
       " '176',\n",
       " '161',\n",
       " '122',\n",
       " '117',\n",
       " '116',\n",
       " '105',\n",
       " '98',\n",
       " '97',\n",
       " '91',\n",
       " '56',\n",
       " '41',\n",
       " '10',\n",
       " '7',\n",
       " '345',\n",
       " '314',\n",
       " '265',\n",
       " '133',\n",
       " '163',\n",
       " '209',\n",
       " '297',\n",
       " '255',\n",
       " '49',\n",
       " '120',\n",
       " '190',\n",
       " '183',\n",
       " '59',\n",
       " '48',\n",
       " '14',\n",
       " '13',\n",
       " '6',\n",
       " '323',\n",
       " '301',\n",
       " '288',\n",
       " '237',\n",
       " '17',\n",
       " '221',\n",
       " '214',\n",
       " '274',\n",
       " '144',\n",
       " '391',\n",
       " '379',\n",
       " '357',\n",
       " '351',\n",
       " '317',\n",
       " '292',\n",
       " '257',\n",
       " '211',\n",
       " '204',\n",
       " '202',\n",
       " '200',\n",
       " '197',\n",
       " '196',\n",
       " '184',\n",
       " '174',\n",
       " '150',\n",
       " '143',\n",
       " '139',\n",
       " '110',\n",
       " '130']"
      ]
     },
     "execution_count": 91,
     "metadata": {},
     "output_type": "execute_result"
    }
   ],
   "source": [
    "dendro_dict['ivl']"
   ]
  }
 ],
 "metadata": {
  "kernelspec": {
   "display_name": "Python 3",
   "language": "python",
   "name": "python3"
  },
  "language_info": {
   "codemirror_mode": {
    "name": "ipython",
    "version": 3
   },
   "file_extension": ".py",
   "mimetype": "text/x-python",
   "name": "python",
   "nbconvert_exporter": "python",
   "pygments_lexer": "ipython3",
   "version": "3.6.3"
  }
 },
 "nbformat": 4,
 "nbformat_minor": 2
}
