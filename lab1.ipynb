{
 "cells": [
  {
   "cell_type": "code",
   "execution_count": 15,
   "metadata": {},
   "outputs": [
    {
     "name": "stdout",
     "output_type": "stream",
     "text": [
      "Using matplotlib backend: Qt5Agg\n",
      "Populating the interactive namespace from numpy and matplotlib\n"
     ]
    }
   ],
   "source": [
    "%pylab"
   ]
  },
  {
   "cell_type": "code",
   "execution_count": 283,
   "metadata": {
    "collapsed": true
   },
   "outputs": [],
   "source": [
    "from sklearn.datasets import load_breast_cancer\n",
    "from sklearn.decomposition import PCA \n",
    "from sklearn.model_selection import train_test_split, GridSearchCV, cross_val_score\n",
    "from sklearn.neighbors import KNeighborsClassifier"
   ]
  },
  {
   "cell_type": "code",
   "execution_count": 16,
   "metadata": {
    "collapsed": true
   },
   "outputs": [],
   "source": [
    "%matplotlib inline"
   ]
  },
  {
   "cell_type": "code",
   "execution_count": 148,
   "metadata": {
    "collapsed": true
   },
   "outputs": [],
   "source": [
    "set_printoptions(formatter={'float': '{:>11.3f}'.format})"
   ]
  },
  {
   "cell_type": "markdown",
   "metadata": {},
   "source": [
    "# Загрузка данных"
   ]
  },
  {
   "cell_type": "code",
   "execution_count": 2,
   "metadata": {
    "collapsed": true
   },
   "outputs": [],
   "source": [
    "breast_cancer_data = load_breast_cancer()\n",
    "breast_cancer_data, breast_cancer_target = load_breast_cancer(return_X_y=True)"
   ]
  },
  {
   "cell_type": "markdown",
   "metadata": {},
   "source": [
    "# Матрицы ковариации и признаки"
   ]
  },
  {
   "cell_type": "markdown",
   "metadata": {},
   "source": [
    "## Диаграмма рассеяния для двух произвольно взятых признаков"
   ]
  },
  {
   "cell_type": "code",
   "execution_count": 101,
   "metadata": {},
   "outputs": [
    {
     "data": {
      "image/png": "[encoded data removed]",
      "text/plain": [
       "<matplotlib.figure.Figure at 0x20371beb128>"
      ]
     },
     "metadata": {},
     "output_type": "display_data"
    }
   ],
   "source": [
    "figsize(16, 10)\n",
    "cmap = ('b', 'r')\n",
    "for i in range(len(cmap)):\n",
    "    scatter(breast_cancer_data[breast_cancer_target == i,3], \n",
    "            breast_cancer_data[breast_cancer_target == i,4], \n",
    "            c=cmap[i], \n",
    "            label='target = {}'.format(i))\n",
    "legend()\n",
    "None"
   ]
  },
  {
   "cell_type": "markdown",
   "metadata": {},
   "source": [
    "## Матрица ковариации исходных данных"
   ]
  },
  {
   "cell_type": "code",
   "execution_count": 182,
   "metadata": {},
   "outputs": [
    {
     "name": "stdout",
     "output_type": "stream",
     "text": [
      "[[     12.419       4.908      85.447    1224.483       0.008       0.094]\n",
      " [      4.908      18.499      34.440     485.994      -0.001       0.054]\n",
      " [     85.447      34.440     590.440    8435.772       0.071       0.715]\n",
      " [   1224.483     485.994    8435.772  123843.554       0.876       9.265]\n",
      " [      0.008      -0.001       0.071       0.876       0.000       0.000]\n",
      " [      0.094       0.054       0.715       9.265       0.000       0.003]]\n"
     ]
    }
   ],
   "source": [
    "covariation_matrix = cov(breast_cancer_data.T)\n",
    "print(covariation_matrix[:6, :6])"
   ]
  },
  {
   "cell_type": "markdown",
   "metadata": {},
   "source": [
    "Для удобства показаны только первые 6 строк и столбцов (и в дальнейшем также)"
   ]
  },
  {
   "cell_type": "markdown",
   "metadata": {},
   "source": [
    "### Проверка корректности собственных значений и векторов"
   ]
  },
  {
   "cell_type": "code",
   "execution_count": 156,
   "metadata": {},
   "outputs": [
    {
     "name": "stdout",
     "output_type": "stream",
     "text": [
      "[[     12.419       4.908      85.447    1224.483       0.008       0.094]\n",
      " [      4.908      18.499      34.440     485.994      -0.001       0.054]\n",
      " [     85.447      34.440     590.440    8435.772       0.071       0.715]\n",
      " [   1224.483     485.994    8435.772  123843.554       0.876       9.265]\n",
      " [      0.008      -0.001       0.071       0.876       0.000       0.000]\n",
      " [      0.094       0.054       0.715       9.265       0.000       0.003]]\n"
     ]
    }
   ],
   "source": [
    "print(matmul(matmul(eigenvectors, diag(eigenvalues)), inv(eigenvectors))[:6, :6])"
   ]
  },
  {
   "cell_type": "markdown",
   "metadata": {},
   "source": [
    "### Расчет главных компонент"
   ]
  },
  {
   "cell_type": "code",
   "execution_count": 153,
   "metadata": {},
   "outputs": [],
   "source": [
    "pca = PCA()\n",
    "breast_cancer_data_pca = pca.fit_transform(breast_cancer_data)"
   ]
  },
  {
   "cell_type": "markdown",
   "metadata": {},
   "source": [
    "### Матрица ковариации исходных данных, спроецированная на главные компоненты"
   ]
  },
  {
   "cell_type": "code",
   "execution_count": 184,
   "metadata": {},
   "outputs": [
    {
     "name": "stdout",
     "output_type": "stream",
     "text": [
      "[[ 443782.605      -0.000      -0.000       0.000      -0.000       0.000]\n",
      " [     -0.000    7310.100       0.000      -0.000      -0.000       0.000]\n",
      " [     -0.000       0.000     703.834       0.000      -0.000       0.000]\n",
      " [      0.000      -0.000       0.000      54.649       0.000      -0.000]\n",
      " [     -0.000      -0.000      -0.000       0.000      39.890      -0.000]\n",
      " [      0.000       0.000       0.000      -0.000      -0.000       3.005]]\n"
     ]
    }
   ],
   "source": [
    "covariation_matrix_pca = cov(breast_cancer_data_pca.T)\n",
    "print(covariation_matrix_pca[:6, :6])"
   ]
  },
  {
   "cell_type": "markdown",
   "metadata": {},
   "source": [
    "### Проверка, что главные компоненты ортогональны"
   ]
  },
  {
   "cell_type": "code",
   "execution_count": 163,
   "metadata": {},
   "outputs": [
    {
     "name": "stdout",
     "output_type": "stream",
     "text": [
      "[[      1.000       0.000       0.000       0.000       0.000       0.000]\n",
      " [      0.000       1.000      -0.000      -0.000       0.000      -0.000]\n",
      " [      0.000      -0.000       1.000      -0.000      -0.000      -0.000]\n",
      " [      0.000      -0.000      -0.000       1.000      -0.000       0.000]\n",
      " [      0.000       0.000      -0.000      -0.000       1.000      -0.000]\n",
      " [      0.000      -0.000      -0.000       0.000      -0.000       1.000]]\n"
     ]
    }
   ],
   "source": [
    "print(matmul(pca.components_, pca.components_.T)[:6, :6])"
   ]
  },
  {
   "cell_type": "markdown",
   "metadata": {},
   "source": [
    "При произведении матрицы на ее транспонированный вариант получилась единичная матрица, следовательно исходная матрица была ортогональной. Т.е. все главные компоненты ортогональны"
   ]
  },
  {
   "cell_type": "markdown",
   "metadata": {},
   "source": [
    "### Сравнение собственных значений матрицы ковариации исходных данных со значениями дисперсии главных компонент"
   ]
  },
  {
   "cell_type": "markdown",
   "metadata": {},
   "source": [
    "#### Собственные значения матрицы ковариации исходных данных"
   ]
  },
  {
   "cell_type": "code",
   "execution_count": 166,
   "metadata": {},
   "outputs": [
    {
     "name": "stdout",
     "output_type": "stream",
     "text": [
      "[ 443782.605    7310.100     703.834      54.649      39.890       3.005\n",
      "       1.815       0.371       0.156       0.084       0.032       0.007\n",
      "       0.003       0.002       0.001       0.001       0.000       0.000\n",
      "       0.000       0.000       0.000       0.000       0.000       0.000\n",
      "       0.000       0.000       0.000       0.000       0.000       0.000]\n"
     ]
    }
   ],
   "source": [
    "eigenvalues, eigenvectors = linalg.eig(covariation_matrix)\n",
    "print(eigenvalues)"
   ]
  },
  {
   "cell_type": "markdown",
   "metadata": {},
   "source": [
    "#### Значения дисперсии главных компонент"
   ]
  },
  {
   "cell_type": "code",
   "execution_count": 205,
   "metadata": {},
   "outputs": [
    {
     "name": "stdout",
     "output_type": "stream",
     "text": [
      "[ 443782.605    7310.100     703.834      54.649      39.890       3.005\n",
      "       1.815       0.371       0.156       0.084       0.032       0.007\n",
      "       0.003       0.002       0.001       0.001       0.000       0.000\n",
      "       0.000       0.000       0.000       0.000       0.000       0.000\n",
      "       0.000       0.000       0.000       0.000       0.000       0.000]\n"
     ]
    }
   ],
   "source": [
    "print(diagonal(covariation_matrix_pca))"
   ]
  },
  {
   "cell_type": "markdown",
   "metadata": {},
   "source": [
    "### Сравнение следов матрицы ковариации исходных данных и матрицы ковариации данных, спроецированных на главные компоненты"
   ]
  },
  {
   "cell_type": "markdown",
   "metadata": {},
   "source": [
    "#### След матрицы ковариации исходных данных"
   ]
  },
  {
   "cell_type": "code",
   "execution_count": 183,
   "metadata": {},
   "outputs": [
    {
     "data": {
      "text/plain": [
       "451896.55625739862"
      ]
     },
     "execution_count": 183,
     "metadata": {},
     "output_type": "execute_result"
    }
   ],
   "source": [
    "trace(covariation_matrix)"
   ]
  },
  {
   "cell_type": "markdown",
   "metadata": {},
   "source": [
    "#### След матрицы ковариации исходных данных, спроецированных на главные компоненты"
   ]
  },
  {
   "cell_type": "code",
   "execution_count": 188,
   "metadata": {},
   "outputs": [
    {
     "data": {
      "text/plain": [
       "451896.55625739874"
      ]
     },
     "execution_count": 188,
     "metadata": {},
     "output_type": "execute_result"
    }
   ],
   "source": [
    "trace(covariation_matrix_pca)"
   ]
  },
  {
   "cell_type": "markdown",
   "metadata": {},
   "source": [
    "Как видно, это значение не изменяется при проецировании на главные компоненты (с точностю до погрешности вычислений)"
   ]
  },
  {
   "cell_type": "code",
   "execution_count": 206,
   "metadata": {
    "collapsed": true
   },
   "outputs": [],
   "source": [
    "total_variance = trace(covariation_matrix)"
   ]
  },
  {
   "cell_type": "markdown",
   "metadata": {},
   "source": [
    "### Графики объясненной дисперсии"
   ]
  },
  {
   "cell_type": "code",
   "execution_count": 207,
   "metadata": {
    "collapsed": true
   },
   "outputs": [],
   "source": [
    "explained_variance_ratio = diagonal(covariation_matrix) / total_variance"
   ]
  },
  {
   "cell_type": "code",
   "execution_count": 256,
   "metadata": {},
   "outputs": [
    {
     "data": {
      "image/png": "[encoded data removed]",
      "text/plain": [
       "<matplotlib.figure.Figure at 0x2037521f0f0>"
      ]
     },
     "metadata": {},
     "output_type": "display_data"
    }
   ],
   "source": [
    "xx = range(1, 31)\n",
    "axes().yaxis.set_major_formatter(matplotlib.ticker.StrMethodFormatter('{x:.1%}'))\n",
    "xticks(xx)\n",
    "plot(xx, pca.explained_variance_ratio_, label='% объясненной дисперсии для главных компонент')\n",
    "plot(xx, explained_variance_ratio, label='% объясненной дисперсии для исходных признаков')\n",
    "legend()\n",
    "None"
   ]
  },
  {
   "cell_type": "markdown",
   "metadata": {},
   "source": [
    "# Классификация по исходным данным"
   ]
  },
  {
   "cell_type": "markdown",
   "metadata": {},
   "source": [
    "## Разбиение выборки на тестовую и тренировочную"
   ]
  },
  {
   "cell_type": "code",
   "execution_count": 258,
   "metadata": {
    "collapsed": true
   },
   "outputs": [],
   "source": [
    "X_train, X_test, y_train, y_test = train_test_split(breast_cancer_data, breast_cancer_target, test_size=0.1, random_state=42)"
   ]
  },
  {
   "cell_type": "markdown",
   "metadata": {},
   "source": [
    "## Обучение классификатора при произвольном k"
   ]
  },
  {
   "cell_type": "code",
   "execution_count": 279,
   "metadata": {},
   "outputs": [
    {
     "name": "stdout",
     "output_type": "stream",
     "text": [
      "Точность: 96.49%\n"
     ]
    }
   ],
   "source": [
    "knn_clf = KNeighborsClassifier(n_neighbors=5)\n",
    "knn_clf.fit(X_train, y_train)\n",
    "print(f'Точность: {knn_clf.score(X_test, y_test):.2%}')"
   ]
  },
  {
   "cell_type": "markdown",
   "metadata": {},
   "source": [
    "### Кроссвалидация на 10 фолдов"
   ]
  },
  {
   "cell_type": "code",
   "execution_count": 288,
   "metadata": {},
   "outputs": [
    {
     "name": "stdout",
     "output_type": "stream",
     "text": [
      "[      0.923       0.942       0.981       0.904       0.904       0.941\n",
      "       0.941       0.920       0.900       0.880]\n"
     ]
    }
   ],
   "source": [
    "cv_scores = cross_val_score(knn_clf, X_train, y_train, cv=10)\n",
    "print(cv_scores)"
   ]
  },
  {
   "cell_type": "code",
   "execution_count": null,
   "metadata": {
    "collapsed": true
   },
   "outputs": [],
   "source": []
  },
  {
   "cell_type": "markdown",
   "metadata": {},
   "source": [
    "# Классификация по данным, спроецированным на главные компоненты"
   ]
  },
  {
   "cell_type": "code",
   "execution_count": null,
   "metadata": {
    "collapsed": true
   },
   "outputs": [],
   "source": []
  }
 ],
 "metadata": {
  "kernelspec": {
   "display_name": "Python 3",
   "language": "python",
   "name": "python3"
  },
  "language_info": {
   "codemirror_mode": {
    "name": "ipython",
    "version": 3
   },
   "file_extension": ".py",
   "mimetype": "text/x-python",
   "name": "python",
   "nbconvert_exporter": "python",
   "pygments_lexer": "ipython3",
   "version": "3.6.3"
  }
 },
 "nbformat": 4,
 "nbformat_minor": 2
}
