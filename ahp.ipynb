{
 "cells": [
  {
   "cell_type": "code",
   "execution_count": 1,
   "metadata": {},
   "outputs": [
    {
     "name": "stdout",
     "output_type": "stream",
     "text": [
      "Using matplotlib backend: Qt5Agg\n",
      "Populating the interactive namespace from numpy and matplotlib\n"
     ]
    }
   ],
   "source": [
    "%pylab"
   ]
  },
  {
   "cell_type": "code",
   "execution_count": 49,
   "metadata": {},
   "outputs": [],
   "source": [
    "# Универ для одного"
   ]
  },
  {
   "cell_type": "code",
   "execution_count": 8,
   "metadata": {},
   "outputs": [],
   "source": [
    "UC = array([\n",
    "    [.129, .545],\n",
    "    [.277, .273],\n",
    "    [.594, .182]\n",
    "])\n",
    "\n",
    "C = array([.17, .83]).reshape((-1, 1))"
   ]
  },
  {
   "cell_type": "code",
   "execution_count": 9,
   "metadata": {},
   "outputs": [],
   "source": [
    "U = matmul(UC, C)"
   ]
  },
  {
   "cell_type": "code",
   "execution_count": 12,
   "metadata": {},
   "outputs": [
    {
     "data": {
      "text/plain": [
       "array([[ 0.47428],\n",
       "       [ 0.27368],\n",
       "       [ 0.25204]])"
      ]
     },
     "execution_count": 12,
     "metadata": {},
     "output_type": "execute_result"
    }
   ],
   "source": [
    "U"
   ]
  },
  {
   "cell_type": "code",
   "execution_count": 50,
   "metadata": {},
   "outputs": [],
   "source": [
    "# Универ для двоих (не сработало)"
   ]
  },
  {
   "cell_type": "code",
   "execution_count": 32,
   "metadata": {},
   "outputs": [
    {
     "data": {
      "text/plain": [
       "(2, 3, 2)"
      ]
     },
     "execution_count": 32,
     "metadata": {},
     "output_type": "execute_result"
    }
   ],
   "source": [
    "UC2 = array([\n",
    "    [[.129, .545], \n",
    "    [.277, .273], \n",
    "    [.594, .182]], \n",
    "    [[.2, .5],\n",
    "    [.3, .2],\n",
    "    [.5, .3]]\n",
    "])\n",
    "\n",
    "UC2.shape"
   ]
  },
  {
   "cell_type": "code",
   "execution_count": 33,
   "metadata": {},
   "outputs": [],
   "source": [
    "C2C1 = array([\n",
    "    [.17, .2],\n",
    "    [.83, .3]\n",
    "])"
   ]
  },
  {
   "cell_type": "code",
   "execution_count": 36,
   "metadata": {},
   "outputs": [],
   "source": [
    "C1 = array([.5]*2).reshape((-1, 1))"
   ]
  },
  {
   "cell_type": "code",
   "execution_count": 48,
   "metadata": {},
   "outputs": [
    {
     "data": {
      "text/plain": [
       "array([[ 0.65129],\n",
       "       [ 0.37399],\n",
       "       [ 0.47472]])"
      ]
     },
     "execution_count": 48,
     "metadata": {},
     "output_type": "execute_result"
    }
   ],
   "source": [
    "matmul(matmul(UC2, C2C1), C1).sum(0)"
   ]
  },
  {
   "cell_type": "code",
   "execution_count": 51,
   "metadata": {},
   "outputs": [],
   "source": [
    "# Вычисление весов из матриц"
   ]
  },
  {
   "cell_type": "code",
   "execution_count": 52,
   "metadata": {},
   "outputs": [],
   "source": [
    "A = array([\n",
    "    [1, 1/5],\n",
    "    [5, 1]\n",
    "])"
   ]
  },
  {
   "cell_type": "code",
   "execution_count": 59,
   "metadata": {},
   "outputs": [
    {
     "data": {
      "text/plain": [
       "array([ 0.16666667,  0.83333333])"
      ]
     },
     "execution_count": 59,
     "metadata": {},
     "output_type": "execute_result"
    }
   ],
   "source": [
    "(A / A.sum(0)).mean(1)"
   ]
  },
  {
   "cell_type": "code",
   "execution_count": 63,
   "metadata": {},
   "outputs": [],
   "source": [
    "def compute_weights(relative_weights):\n",
    "    return (relative_weights / relative_weights.sum(0)).mean(1)"
   ]
  },
  {
   "cell_type": "code",
   "execution_count": 105,
   "metadata": {},
   "outputs": [],
   "source": [
    "class ConsistencyEstimator:\n",
    "    def __init__(self, relative_weights):\n",
    "        self.relative_weights = relative_weights\n",
    "    \n",
    "    def consistency(self):\n",
    "        weights = compute_weights(self.relative_weights)\n",
    "        n_max = matmul(self.relative_weights, weights).sum()\n",
    "        n = len(weights)\n",
    "        c_i = (n_max - n) / (n - 1)\n",
    "        r_i = 1.98 * (n - 2) / n\n",
    "        c_r = c_i / r_i\n",
    "        return c_r\n",
    "        \n",
    "    def is_consistent(self):\n",
    "        c_r = self.consistency()\n",
    "        return c_r < .1\n",
    "        "
   ]
  },
  {
   "cell_type": "code",
   "execution_count": 101,
   "metadata": {},
   "outputs": [],
   "source": [
    "AL = array([\n",
    "    [1, 1/2, 1/5],\n",
    "    [2, 1, 1/2],\n",
    "    [5, 2, 1]\n",
    "])\n",
    "\n",
    "AR = array([\n",
    "    [1, 2, 3],\n",
    "    [1/2, 1, 3/2],\n",
    "    [1/3, 2/3, 1]\n",
    "])"
   ]
  },
  {
   "cell_type": "code",
   "execution_count": 104,
   "metadata": {},
   "outputs": [
    {
     "data": {
      "text/plain": [
       "array([[ 0.1285014 ],\n",
       "       [ 0.27661064],\n",
       "       [ 0.59488796]])"
      ]
     },
     "execution_count": 104,
     "metadata": {},
     "output_type": "execute_result"
    }
   ],
   "source": [
    "compute_weights(AL).reshape((-1, 1))"
   ]
  },
  {
   "cell_type": "code",
   "execution_count": 91,
   "metadata": {},
   "outputs": [
    {
     "data": {
      "text/plain": [
       "array([ 0.38578431,  0.83105742,  1.79061625])"
      ]
     },
     "execution_count": 91,
     "metadata": {},
     "output_type": "execute_result"
    }
   ],
   "source": [
    "matmul(AL, compute_weights(AL))"
   ]
  },
  {
   "cell_type": "code",
   "execution_count": 92,
   "metadata": {},
   "outputs": [
    {
     "data": {
      "text/plain": [
       "array([[ 0.38578431],\n",
       "       [ 0.83105742],\n",
       "       [ 1.79061625]])"
      ]
     },
     "execution_count": 92,
     "metadata": {},
     "output_type": "execute_result"
    }
   ],
   "source": [
    "matmul(AL, compute_weights(AL).reshape((-1, 1)))"
   ]
  },
  {
   "cell_type": "code",
   "execution_count": 108,
   "metadata": {},
   "outputs": [
    {
     "data": {
      "text/plain": [
       "0.0056499872676341375"
      ]
     },
     "execution_count": 108,
     "metadata": {},
     "output_type": "execute_result"
    }
   ],
   "source": [
    "ConsistencyEstimator(AL).consistency()"
   ]
  },
  {
   "cell_type": "markdown",
   "metadata": {},
   "source": [
    "# Задача "
   ]
  },
  {
   "cell_type": "markdown",
   "metadata": {},
   "source": [
    "A new author sets three criteria for selecting a publisher for his textbook: royalty- percentage (R), marketing (M), and advance payment (A). Two publishers, H and P. have expressed interest in the book. Using the following comparison matrices, rank the two publishers and assess the consistency of the decision."
   ]
  },
  {
   "cell_type": "code",
   "execution_count": 134,
   "metadata": {},
   "outputs": [],
   "source": [
    "A = array([\n",
    "    [1, 1, 1/4],\n",
    "    [1, 1, 1/5],\n",
    "    [4, 5, 1]\n",
    "])\n",
    "\n",
    "AR = array([\n",
    "    [1, 2],\n",
    "    [1/2, 1]\n",
    "])\n",
    "\n",
    "AM = array([\n",
    "    [1, 1/2],\n",
    "    [2, 1]\n",
    "])\n",
    "\n",
    "AA = ones((2, 2))"
   ]
  },
  {
   "cell_type": "code",
   "execution_count": 135,
   "metadata": {},
   "outputs": [
    {
     "data": {
      "text/plain": [
       "True"
      ]
     },
     "execution_count": 135,
     "metadata": {},
     "output_type": "execute_result"
    }
   ],
   "source": [
    "ConsistencyEstimator(A).is_consistent()"
   ]
  },
  {
   "cell_type": "code",
   "execution_count": 136,
   "metadata": {},
   "outputs": [
    {
     "name": "stdout",
     "output_type": "stream",
     "text": [
      "[ 0.16064587  0.14915161  0.69020252]\n",
      "[ 0.66666667  0.33333333]\n",
      "[ 0.33333333  0.66666667]\n",
      "[ 0.5  0.5]\n"
     ]
    }
   ],
   "source": [
    "for mx in [A, AR, AM, AA]:\n",
    "    print(compute_weights(mx))"
   ]
  },
  {
   "cell_type": "code",
   "execution_count": 131,
   "metadata": {},
   "outputs": [],
   "source": [
    "W1 = array([compute_weights(mx) for mx in [AR, AM, AA]]).T\n",
    "W2 = compute_weights(A)"
   ]
  },
  {
   "cell_type": "code",
   "execution_count": 132,
   "metadata": {},
   "outputs": [
    {
     "data": {
      "text/plain": [
       "array([ 0.50191571,  0.49808429])"
      ]
     },
     "execution_count": 132,
     "metadata": {},
     "output_type": "execute_result"
    }
   ],
   "source": [
    "matmul(W1, W2)"
   ]
  },
  {
   "cell_type": "markdown",
   "metadata": {},
   "source": [
    "Выбрать следует издателя H"
   ]
  }
 ],
 "metadata": {
  "kernelspec": {
   "display_name": "Python 3",
   "language": "python",
   "name": "python3"
  },
  "language_info": {
   "codemirror_mode": {
    "name": "ipython",
    "version": 3
   },
   "file_extension": ".py",
   "mimetype": "text/x-python",
   "name": "python",
   "nbconvert_exporter": "python",
   "pygments_lexer": "ipython3",
   "version": "3.6.3"
  }
 },
 "nbformat": 4,
 "nbformat_minor": 2
}
